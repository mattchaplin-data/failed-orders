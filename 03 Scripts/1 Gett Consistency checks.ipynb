{
 "cells": [
  {
   "cell_type": "markdown",
   "id": "7e0449d7",
   "metadata": {},
   "source": [
    "# Contents"
   ]
  },
  {
   "cell_type": "markdown",
   "id": "137efd31",
   "metadata": {},
   "source": [
    "### 01 Import libraried\n",
    "### 02 Import data\n",
    "### 03 Offers consistency checks\n",
    "### 04 Orders concsistency checks"
   ]
  },
  {
   "cell_type": "markdown",
   "id": "8667dc1d",
   "metadata": {},
   "source": [
    "# 01 Import libraries"
   ]
  },
  {
   "cell_type": "code",
   "execution_count": 1,
   "id": "761204be",
   "metadata": {},
   "outputs": [],
   "source": [
    "#import libraries\n",
    "import pandas as pd\n",
    "import numpy as np\n",
    "import os"
   ]
  },
  {
   "cell_type": "markdown",
   "id": "040fc980",
   "metadata": {},
   "source": [
    "# 02 Import Data"
   ]
  },
  {
   "cell_type": "code",
   "execution_count": 2,
   "id": "547da6d8",
   "metadata": {},
   "outputs": [],
   "source": [
    "# create path\n",
    "path = r\"C:\\Users\\Asus 17\\OneDrive\\Desktop\\Projects\\Gett\""
   ]
  },
  {
   "cell_type": "code",
   "execution_count": 3,
   "id": "e78d4a07",
   "metadata": {},
   "outputs": [],
   "source": [
    "#import offers\n",
    "offers = pd.read_csv(os.path.join(path, '02 Data', 'Original Data', 'data_offers.csv'))"
   ]
  },
  {
   "cell_type": "code",
   "execution_count": 13,
   "id": "1fb7044a",
   "metadata": {},
   "outputs": [],
   "source": [
    "#import orders\n",
    "orders = pd.read_csv(os.path.join(path, '02 Data', 'Original Data', 'data_orders.csv'))"
   ]
  },
  {
   "cell_type": "markdown",
   "id": "407cdfd5",
   "metadata": {},
   "source": [
    "# 03 Offers consistency checks\n"
   ]
  },
  {
   "cell_type": "code",
   "execution_count": 5,
   "id": "deff584e",
   "metadata": {
    "scrolled": true
   },
   "outputs": [
    {
     "data": {
      "text/plain": [
       "(334363, 2)"
      ]
     },
     "execution_count": 5,
     "metadata": {},
     "output_type": "execute_result"
    }
   ],
   "source": [
    "#take a look\n",
    "offers.shape"
   ]
  },
  {
   "cell_type": "code",
   "execution_count": 6,
   "id": "789d66bf",
   "metadata": {},
   "outputs": [
    {
     "data": {
      "text/html": [
       "<div>\n",
       "<style scoped>\n",
       "    .dataframe tbody tr th:only-of-type {\n",
       "        vertical-align: middle;\n",
       "    }\n",
       "\n",
       "    .dataframe tbody tr th {\n",
       "        vertical-align: top;\n",
       "    }\n",
       "\n",
       "    .dataframe thead th {\n",
       "        text-align: right;\n",
       "    }\n",
       "</style>\n",
       "<table border=\"1\" class=\"dataframe\">\n",
       "  <thead>\n",
       "    <tr style=\"text-align: right;\">\n",
       "      <th></th>\n",
       "      <th>order_gk</th>\n",
       "      <th>offer_id</th>\n",
       "    </tr>\n",
       "  </thead>\n",
       "  <tbody>\n",
       "    <tr>\n",
       "      <th>0</th>\n",
       "      <td>3000579625629</td>\n",
       "      <td>300050936206</td>\n",
       "    </tr>\n",
       "    <tr>\n",
       "      <th>1</th>\n",
       "      <td>3000627306450</td>\n",
       "      <td>300052064651</td>\n",
       "    </tr>\n",
       "    <tr>\n",
       "      <th>2</th>\n",
       "      <td>3000632920686</td>\n",
       "      <td>300052408812</td>\n",
       "    </tr>\n",
       "    <tr>\n",
       "      <th>3</th>\n",
       "      <td>3000632771725</td>\n",
       "      <td>300052393030</td>\n",
       "    </tr>\n",
       "    <tr>\n",
       "      <th>4</th>\n",
       "      <td>3000583467642</td>\n",
       "      <td>300051001196</td>\n",
       "    </tr>\n",
       "  </tbody>\n",
       "</table>\n",
       "</div>"
      ],
      "text/plain": [
       "        order_gk      offer_id\n",
       "0  3000579625629  300050936206\n",
       "1  3000627306450  300052064651\n",
       "2  3000632920686  300052408812\n",
       "3  3000632771725  300052393030\n",
       "4  3000583467642  300051001196"
      ]
     },
     "execution_count": 6,
     "metadata": {},
     "output_type": "execute_result"
    }
   ],
   "source": [
    "offers.head()"
   ]
  },
  {
   "cell_type": "markdown",
   "id": "b973f11f",
   "metadata": {},
   "source": [
    "### Find Missing Values"
   ]
  },
  {
   "cell_type": "code",
   "execution_count": 7,
   "id": "0059400e",
   "metadata": {},
   "outputs": [
    {
     "data": {
      "text/plain": [
       "order_gk    0\n",
       "offer_id    0\n",
       "dtype: int64"
      ]
     },
     "execution_count": 7,
     "metadata": {},
     "output_type": "execute_result"
    }
   ],
   "source": [
    "# look for nulls\n",
    "offers.isnull().sum()"
   ]
  },
  {
   "cell_type": "markdown",
   "id": "928855fb",
   "metadata": {},
   "source": [
    "### Check for duplicates"
   ]
  },
  {
   "cell_type": "code",
   "execution_count": 8,
   "id": "b63bea41",
   "metadata": {},
   "outputs": [],
   "source": [
    "#create a subset for offers dups\n",
    "off_dups = offers[offers.duplicated()]"
   ]
  },
  {
   "cell_type": "code",
   "execution_count": 9,
   "id": "e62048a7",
   "metadata": {},
   "outputs": [
    {
     "data": {
      "text/plain": [
       "(0, 2)"
      ]
     },
     "execution_count": 9,
     "metadata": {},
     "output_type": "execute_result"
    }
   ],
   "source": [
    "#take a look\n",
    "off_dups.shape"
   ]
  },
  {
   "cell_type": "markdown",
   "id": "0b4a4eff",
   "metadata": {},
   "source": [
    "### Check for mixed data types\n"
   ]
  },
  {
   "cell_type": "code",
   "execution_count": 11,
   "id": "7ff91499",
   "metadata": {},
   "outputs": [],
   "source": [
    "# check for mixed data type columns\n",
    "for col in offers.columns.tolist():\n",
    "    weird = (offers[[col]].applymap(type) != offers[[col]].iloc[0].apply(type)).any(axis=1)\n",
    "    if len (offers[weird]) > 0:\n",
    "        print (col)"
   ]
  },
  {
   "cell_type": "code",
   "execution_count": 34,
   "id": "b4e5f631",
   "metadata": {},
   "outputs": [
    {
     "data": {
      "text/html": [
       "<div>\n",
       "<style scoped>\n",
       "    .dataframe tbody tr th:only-of-type {\n",
       "        vertical-align: middle;\n",
       "    }\n",
       "\n",
       "    .dataframe tbody tr th {\n",
       "        vertical-align: top;\n",
       "    }\n",
       "\n",
       "    .dataframe thead th {\n",
       "        text-align: right;\n",
       "    }\n",
       "</style>\n",
       "<table border=\"1\" class=\"dataframe\">\n",
       "  <thead>\n",
       "    <tr style=\"text-align: right;\">\n",
       "      <th></th>\n",
       "      <th>order_gk</th>\n",
       "      <th>offer_id</th>\n",
       "    </tr>\n",
       "  </thead>\n",
       "  <tbody>\n",
       "    <tr>\n",
       "      <th>count</th>\n",
       "      <td>3.343630e+05</td>\n",
       "      <td>3.343630e+05</td>\n",
       "    </tr>\n",
       "    <tr>\n",
       "      <th>mean</th>\n",
       "      <td>3.000602e+12</td>\n",
       "      <td>3.000515e+11</td>\n",
       "    </tr>\n",
       "    <tr>\n",
       "      <th>std</th>\n",
       "      <td>2.431638e+07</td>\n",
       "      <td>5.276821e+05</td>\n",
       "    </tr>\n",
       "    <tr>\n",
       "      <th>min</th>\n",
       "      <td>3.000551e+12</td>\n",
       "      <td>3.000506e+11</td>\n",
       "    </tr>\n",
       "    <tr>\n",
       "      <th>25%</th>\n",
       "      <td>3.000585e+12</td>\n",
       "      <td>3.000511e+11</td>\n",
       "    </tr>\n",
       "    <tr>\n",
       "      <th>50%</th>\n",
       "      <td>3.000596e+12</td>\n",
       "      <td>3.000516e+11</td>\n",
       "    </tr>\n",
       "    <tr>\n",
       "      <th>75%</th>\n",
       "      <td>3.000625e+12</td>\n",
       "      <td>3.000520e+11</td>\n",
       "    </tr>\n",
       "    <tr>\n",
       "      <th>max</th>\n",
       "      <td>3.000633e+12</td>\n",
       "      <td>3.000524e+11</td>\n",
       "    </tr>\n",
       "  </tbody>\n",
       "</table>\n",
       "</div>"
      ],
      "text/plain": [
       "           order_gk      offer_id\n",
       "count  3.343630e+05  3.343630e+05\n",
       "mean   3.000602e+12  3.000515e+11\n",
       "std    2.431638e+07  5.276821e+05\n",
       "min    3.000551e+12  3.000506e+11\n",
       "25%    3.000585e+12  3.000511e+11\n",
       "50%    3.000596e+12  3.000516e+11\n",
       "75%    3.000625e+12  3.000520e+11\n",
       "max    3.000633e+12  3.000524e+11"
      ]
     },
     "execution_count": 34,
     "metadata": {},
     "output_type": "execute_result"
    }
   ],
   "source": [
    "offers.describe()"
   ]
  },
  {
   "cell_type": "markdown",
   "id": "9ee83856",
   "metadata": {},
   "source": [
    "# 04 Orders consistency checks"
   ]
  },
  {
   "cell_type": "code",
   "execution_count": 14,
   "id": "4ab425b7",
   "metadata": {},
   "outputs": [
    {
     "data": {
      "text/plain": [
       "(10716, 8)"
      ]
     },
     "execution_count": 14,
     "metadata": {},
     "output_type": "execute_result"
    }
   ],
   "source": [
    "#Take a look\n",
    "orders.shape"
   ]
  },
  {
   "cell_type": "code",
   "execution_count": 15,
   "id": "3a43a470",
   "metadata": {},
   "outputs": [
    {
     "data": {
      "text/html": [
       "<div>\n",
       "<style scoped>\n",
       "    .dataframe tbody tr th:only-of-type {\n",
       "        vertical-align: middle;\n",
       "    }\n",
       "\n",
       "    .dataframe tbody tr th {\n",
       "        vertical-align: top;\n",
       "    }\n",
       "\n",
       "    .dataframe thead th {\n",
       "        text-align: right;\n",
       "    }\n",
       "</style>\n",
       "<table border=\"1\" class=\"dataframe\">\n",
       "  <thead>\n",
       "    <tr style=\"text-align: right;\">\n",
       "      <th></th>\n",
       "      <th>order_datetime</th>\n",
       "      <th>origin_longitude</th>\n",
       "      <th>origin_latitude</th>\n",
       "      <th>m_order_eta</th>\n",
       "      <th>order_gk</th>\n",
       "      <th>order_status_key</th>\n",
       "      <th>is_driver_assigned_key</th>\n",
       "      <th>cancellations_time_in_seconds</th>\n",
       "    </tr>\n",
       "  </thead>\n",
       "  <tbody>\n",
       "    <tr>\n",
       "      <th>0</th>\n",
       "      <td>18:08:07</td>\n",
       "      <td>-0.978916</td>\n",
       "      <td>51.456173</td>\n",
       "      <td>60.0</td>\n",
       "      <td>3000583041974</td>\n",
       "      <td>4</td>\n",
       "      <td>1</td>\n",
       "      <td>198.0</td>\n",
       "    </tr>\n",
       "    <tr>\n",
       "      <th>1</th>\n",
       "      <td>20:57:32</td>\n",
       "      <td>-0.950385</td>\n",
       "      <td>51.456843</td>\n",
       "      <td>NaN</td>\n",
       "      <td>3000583116437</td>\n",
       "      <td>4</td>\n",
       "      <td>0</td>\n",
       "      <td>128.0</td>\n",
       "    </tr>\n",
       "    <tr>\n",
       "      <th>2</th>\n",
       "      <td>12:07:50</td>\n",
       "      <td>-0.969520</td>\n",
       "      <td>51.455544</td>\n",
       "      <td>477.0</td>\n",
       "      <td>3000582891479</td>\n",
       "      <td>4</td>\n",
       "      <td>1</td>\n",
       "      <td>46.0</td>\n",
       "    </tr>\n",
       "    <tr>\n",
       "      <th>3</th>\n",
       "      <td>13:50:20</td>\n",
       "      <td>-1.054671</td>\n",
       "      <td>51.460544</td>\n",
       "      <td>658.0</td>\n",
       "      <td>3000582941169</td>\n",
       "      <td>4</td>\n",
       "      <td>1</td>\n",
       "      <td>62.0</td>\n",
       "    </tr>\n",
       "    <tr>\n",
       "      <th>4</th>\n",
       "      <td>21:24:45</td>\n",
       "      <td>-0.967605</td>\n",
       "      <td>51.458236</td>\n",
       "      <td>NaN</td>\n",
       "      <td>3000583140877</td>\n",
       "      <td>9</td>\n",
       "      <td>0</td>\n",
       "      <td>NaN</td>\n",
       "    </tr>\n",
       "  </tbody>\n",
       "</table>\n",
       "</div>"
      ],
      "text/plain": [
       "  order_datetime  origin_longitude  origin_latitude  m_order_eta  \\\n",
       "0       18:08:07         -0.978916        51.456173         60.0   \n",
       "1       20:57:32         -0.950385        51.456843          NaN   \n",
       "2       12:07:50         -0.969520        51.455544        477.0   \n",
       "3       13:50:20         -1.054671        51.460544        658.0   \n",
       "4       21:24:45         -0.967605        51.458236          NaN   \n",
       "\n",
       "        order_gk  order_status_key  is_driver_assigned_key  \\\n",
       "0  3000583041974                 4                       1   \n",
       "1  3000583116437                 4                       0   \n",
       "2  3000582891479                 4                       1   \n",
       "3  3000582941169                 4                       1   \n",
       "4  3000583140877                 9                       0   \n",
       "\n",
       "   cancellations_time_in_seconds  \n",
       "0                          198.0  \n",
       "1                          128.0  \n",
       "2                           46.0  \n",
       "3                           62.0  \n",
       "4                            NaN  "
      ]
     },
     "execution_count": 15,
     "metadata": {},
     "output_type": "execute_result"
    }
   ],
   "source": [
    "orders.head()"
   ]
  },
  {
   "cell_type": "markdown",
   "id": "2ca36e55",
   "metadata": {},
   "source": [
    "### Find Missing Values"
   ]
  },
  {
   "cell_type": "code",
   "execution_count": 16,
   "id": "9fad10dc",
   "metadata": {},
   "outputs": [
    {
     "data": {
      "text/plain": [
       "order_datetime                      0\n",
       "origin_longitude                    0\n",
       "origin_latitude                     0\n",
       "m_order_eta                      7902\n",
       "order_gk                            0\n",
       "order_status_key                    0\n",
       "is_driver_assigned_key              0\n",
       "cancellations_time_in_seconds    3409\n",
       "dtype: int64"
      ]
     },
     "execution_count": 16,
     "metadata": {},
     "output_type": "execute_result"
    }
   ],
   "source": [
    "#find nulls\n",
    "orders.isnull().sum()"
   ]
  },
  {
   "cell_type": "code",
   "execution_count": 17,
   "id": "61228088",
   "metadata": {},
   "outputs": [
    {
     "data": {
      "text/plain": [
       "count    2814.000000\n",
       "mean      441.415423\n",
       "std       288.006379\n",
       "min        60.000000\n",
       "25%       233.000000\n",
       "50%       368.500000\n",
       "75%       653.000000\n",
       "max      1559.000000\n",
       "Name: m_order_eta, dtype: float64"
      ]
     },
     "execution_count": 17,
     "metadata": {},
     "output_type": "execute_result"
    }
   ],
   "source": [
    "orders['m_order_eta'].describe()"
   ]
  },
  {
   "cell_type": "code",
   "execution_count": 21,
   "id": "0f4d29b3",
   "metadata": {},
   "outputs": [
    {
     "data": {
      "text/plain": [
       "count    7307.000000\n",
       "mean      157.892021\n",
       "std       213.366963\n",
       "min         3.000000\n",
       "25%        45.000000\n",
       "50%        98.000000\n",
       "75%       187.500000\n",
       "max      4303.000000\n",
       "Name: cancellations_time_in_seconds, dtype: float64"
      ]
     },
     "execution_count": 21,
     "metadata": {},
     "output_type": "execute_result"
    }
   ],
   "source": [
    "orders['cancellations_time_in_seconds'].describe()"
   ]
  },
  {
   "cell_type": "code",
   "execution_count": 24,
   "id": "207b47af",
   "metadata": {},
   "outputs": [
    {
     "data": {
      "text/plain": [
       "order_status_key\n",
       "4    7307\n",
       "9    3409\n",
       "Name: count, dtype: int64"
      ]
     },
     "execution_count": 24,
     "metadata": {},
     "output_type": "execute_result"
    }
   ],
   "source": [
    "# check against order status key. \n",
    "orders['order_status_key'].value_counts(dropna = False)"
   ]
  },
  {
   "cell_type": "code",
   "execution_count": 25,
   "id": "f3857767",
   "metadata": {},
   "outputs": [
    {
     "data": {
      "text/plain": [
       "10716"
      ]
     },
     "execution_count": 25,
     "metadata": {},
     "output_type": "execute_result"
    }
   ],
   "source": [
    "7307+3409\n"
   ]
  },
  {
   "cell_type": "code",
   "execution_count": 26,
   "id": "90132a33",
   "metadata": {},
   "outputs": [
    {
     "data": {
      "text/plain": [
       "2814"
      ]
     },
     "execution_count": 26,
     "metadata": {},
     "output_type": "execute_result"
    }
   ],
   "source": [
    "10716-7902"
   ]
  },
  {
   "cell_type": "code",
   "execution_count": 28,
   "id": "d56940ff",
   "metadata": {},
   "outputs": [
    {
     "data": {
      "text/plain": [
       "is_driver_assigned_key\n",
       "0    7902\n",
       "1    2814\n",
       "Name: count, dtype: int64"
      ]
     },
     "execution_count": 28,
     "metadata": {},
     "output_type": "execute_result"
    }
   ],
   "source": [
    "orders['is_driver_assigned_key'].value_counts(dropna = False)"
   ]
  },
  {
   "cell_type": "markdown",
   "id": "dd8beb43",
   "metadata": {},
   "source": [
    "## Missing Values correspond to \n"
   ]
  },
  {
   "cell_type": "markdown",
   "id": "1da5c984",
   "metadata": {},
   "source": [
    "Where driver was not assigned, there was no order eta. \\\n",
    "Where order was cancelled by system, there was no time untill cancelled. "
   ]
  },
  {
   "cell_type": "markdown",
   "id": "4d9f9176",
   "metadata": {},
   "source": [
    "### Check for dups"
   ]
  },
  {
   "cell_type": "code",
   "execution_count": 29,
   "id": "155c2e82",
   "metadata": {},
   "outputs": [],
   "source": [
    "#create a subset for orders dups\n",
    "ord_dups = orders[orders.duplicated()]"
   ]
  },
  {
   "cell_type": "code",
   "execution_count": 30,
   "id": "56e3e7fa",
   "metadata": {},
   "outputs": [
    {
     "data": {
      "text/plain": [
       "(0, 8)"
      ]
     },
     "execution_count": 30,
     "metadata": {},
     "output_type": "execute_result"
    }
   ],
   "source": [
    "#take a look\n",
    "ord_dups.shape"
   ]
  },
  {
   "cell_type": "markdown",
   "id": "a21a6862",
   "metadata": {},
   "source": [
    "### Check for mixed data types"
   ]
  },
  {
   "cell_type": "code",
   "execution_count": 31,
   "id": "462879fe",
   "metadata": {},
   "outputs": [],
   "source": [
    "#check for mixed data type columns\n",
    "for col in orders.columns.tolist():\n",
    "    weird = (orders[[col]].applymap(type) != orders[[col]].iloc[0].apply(type)).any(axis=1)\n",
    "    if len (orders[weird]) > 0:\n",
    "        print (col)"
   ]
  },
  {
   "cell_type": "code",
   "execution_count": 32,
   "id": "2ad7358f",
   "metadata": {},
   "outputs": [
    {
     "data": {
      "text/plain": [
       "order_datetime                    object\n",
       "origin_longitude                 float64\n",
       "origin_latitude                  float64\n",
       "m_order_eta                      float64\n",
       "order_gk                           int64\n",
       "order_status_key                   int64\n",
       "is_driver_assigned_key             int64\n",
       "cancellations_time_in_seconds    float64\n",
       "dtype: object"
      ]
     },
     "execution_count": 32,
     "metadata": {},
     "output_type": "execute_result"
    }
   ],
   "source": [
    "orders.dtypes"
   ]
  },
  {
   "cell_type": "code",
   "execution_count": 33,
   "id": "1098449f",
   "metadata": {},
   "outputs": [
    {
     "data": {
      "text/html": [
       "<div>\n",
       "<style scoped>\n",
       "    .dataframe tbody tr th:only-of-type {\n",
       "        vertical-align: middle;\n",
       "    }\n",
       "\n",
       "    .dataframe tbody tr th {\n",
       "        vertical-align: top;\n",
       "    }\n",
       "\n",
       "    .dataframe thead th {\n",
       "        text-align: right;\n",
       "    }\n",
       "</style>\n",
       "<table border=\"1\" class=\"dataframe\">\n",
       "  <thead>\n",
       "    <tr style=\"text-align: right;\">\n",
       "      <th></th>\n",
       "      <th>origin_longitude</th>\n",
       "      <th>origin_latitude</th>\n",
       "      <th>m_order_eta</th>\n",
       "      <th>order_gk</th>\n",
       "      <th>order_status_key</th>\n",
       "      <th>is_driver_assigned_key</th>\n",
       "      <th>cancellations_time_in_seconds</th>\n",
       "    </tr>\n",
       "  </thead>\n",
       "  <tbody>\n",
       "    <tr>\n",
       "      <th>count</th>\n",
       "      <td>10716.000000</td>\n",
       "      <td>10716.000000</td>\n",
       "      <td>2814.000000</td>\n",
       "      <td>1.071600e+04</td>\n",
       "      <td>10716.000000</td>\n",
       "      <td>10716.000000</td>\n",
       "      <td>7307.000000</td>\n",
       "    </tr>\n",
       "    <tr>\n",
       "      <th>mean</th>\n",
       "      <td>-0.964323</td>\n",
       "      <td>51.450541</td>\n",
       "      <td>441.415423</td>\n",
       "      <td>3.000598e+12</td>\n",
       "      <td>5.590612</td>\n",
       "      <td>0.262598</td>\n",
       "      <td>157.892021</td>\n",
       "    </tr>\n",
       "    <tr>\n",
       "      <th>std</th>\n",
       "      <td>0.022818</td>\n",
       "      <td>0.011984</td>\n",
       "      <td>288.006379</td>\n",
       "      <td>2.396261e+07</td>\n",
       "      <td>2.328845</td>\n",
       "      <td>0.440066</td>\n",
       "      <td>213.366963</td>\n",
       "    </tr>\n",
       "    <tr>\n",
       "      <th>min</th>\n",
       "      <td>-1.066957</td>\n",
       "      <td>51.399323</td>\n",
       "      <td>60.000000</td>\n",
       "      <td>3.000550e+12</td>\n",
       "      <td>4.000000</td>\n",
       "      <td>0.000000</td>\n",
       "      <td>3.000000</td>\n",
       "    </tr>\n",
       "    <tr>\n",
       "      <th>25%</th>\n",
       "      <td>-0.974363</td>\n",
       "      <td>51.444643</td>\n",
       "      <td>233.000000</td>\n",
       "      <td>3.000583e+12</td>\n",
       "      <td>4.000000</td>\n",
       "      <td>0.000000</td>\n",
       "      <td>45.000000</td>\n",
       "    </tr>\n",
       "    <tr>\n",
       "      <th>50%</th>\n",
       "      <td>-0.966386</td>\n",
       "      <td>51.451972</td>\n",
       "      <td>368.500000</td>\n",
       "      <td>3.000595e+12</td>\n",
       "      <td>4.000000</td>\n",
       "      <td>0.000000</td>\n",
       "      <td>98.000000</td>\n",
       "    </tr>\n",
       "    <tr>\n",
       "      <th>75%</th>\n",
       "      <td>-0.949605</td>\n",
       "      <td>51.456725</td>\n",
       "      <td>653.000000</td>\n",
       "      <td>3.000623e+12</td>\n",
       "      <td>9.000000</td>\n",
       "      <td>1.000000</td>\n",
       "      <td>187.500000</td>\n",
       "    </tr>\n",
       "    <tr>\n",
       "      <th>max</th>\n",
       "      <td>-0.867088</td>\n",
       "      <td>51.496169</td>\n",
       "      <td>1559.000000</td>\n",
       "      <td>3.000633e+12</td>\n",
       "      <td>9.000000</td>\n",
       "      <td>1.000000</td>\n",
       "      <td>4303.000000</td>\n",
       "    </tr>\n",
       "  </tbody>\n",
       "</table>\n",
       "</div>"
      ],
      "text/plain": [
       "       origin_longitude  origin_latitude  m_order_eta      order_gk  \\\n",
       "count      10716.000000     10716.000000  2814.000000  1.071600e+04   \n",
       "mean          -0.964323        51.450541   441.415423  3.000598e+12   \n",
       "std            0.022818         0.011984   288.006379  2.396261e+07   \n",
       "min           -1.066957        51.399323    60.000000  3.000550e+12   \n",
       "25%           -0.974363        51.444643   233.000000  3.000583e+12   \n",
       "50%           -0.966386        51.451972   368.500000  3.000595e+12   \n",
       "75%           -0.949605        51.456725   653.000000  3.000623e+12   \n",
       "max           -0.867088        51.496169  1559.000000  3.000633e+12   \n",
       "\n",
       "       order_status_key  is_driver_assigned_key  cancellations_time_in_seconds  \n",
       "count      10716.000000            10716.000000                    7307.000000  \n",
       "mean           5.590612                0.262598                     157.892021  \n",
       "std            2.328845                0.440066                     213.366963  \n",
       "min            4.000000                0.000000                       3.000000  \n",
       "25%            4.000000                0.000000                      45.000000  \n",
       "50%            4.000000                0.000000                      98.000000  \n",
       "75%            9.000000                1.000000                     187.500000  \n",
       "max            9.000000                1.000000                    4303.000000  "
      ]
     },
     "execution_count": 33,
     "metadata": {},
     "output_type": "execute_result"
    }
   ],
   "source": [
    "orders.describe()"
   ]
  },
  {
   "cell_type": "code",
   "execution_count": null,
   "id": "a195c18e",
   "metadata": {},
   "outputs": [],
   "source": []
  }
 ],
 "metadata": {
  "kernelspec": {
   "display_name": "Python 3 (ipykernel)",
   "language": "python",
   "name": "python3"
  },
  "language_info": {
   "codemirror_mode": {
    "name": "ipython",
    "version": 3
   },
   "file_extension": ".py",
   "mimetype": "text/x-python",
   "name": "python",
   "nbconvert_exporter": "python",
   "pygments_lexer": "ipython3",
   "version": "3.11.4"
  }
 },
 "nbformat": 4,
 "nbformat_minor": 5
}
